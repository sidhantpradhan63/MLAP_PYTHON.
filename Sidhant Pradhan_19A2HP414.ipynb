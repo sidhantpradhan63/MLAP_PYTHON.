{
 "cells": [
  {
   "cell_type": "markdown",
   "metadata": {},
   "source": [
    "# Sidhant Pradhan - 19A2HP414"
   ]
  },
  {
   "cell_type": "markdown",
   "metadata": {},
   "source": [
    "## Predicting sales"
   ]
  },
  {
   "cell_type": "code",
   "execution_count": 1,
   "metadata": {},
   "outputs": [],
   "source": [
    "import warnings\n",
    "warnings.filterwarnings('ignore')"
   ]
  },
  {
   "cell_type": "code",
   "execution_count": 2,
   "metadata": {},
   "outputs": [],
   "source": [
    "import pandas as pd\n",
    "Adv = pd.read_csv( r'Advertising.csv' )"
   ]
  },
  {
   "cell_type": "code",
   "execution_count": 3,
   "metadata": {},
   "outputs": [
    {
     "name": "stdout",
     "output_type": "stream",
     "text": [
      "<class 'pandas.core.frame.DataFrame'>\n",
      "RangeIndex: 200 entries, 0 to 199\n",
      "Data columns (total 6 columns):\n",
      "Sno          200 non-null int64\n",
      "TV           199 non-null float64\n",
      "Radio        199 non-null float64\n",
      "Newspaper    199 non-null float64\n",
      "Day          197 non-null object\n",
      "Sales        200 non-null float64\n",
      "dtypes: float64(4), int64(1), object(1)\n",
      "memory usage: 9.5+ KB\n"
     ]
    }
   ],
   "source": [
    "Adv.info()"
   ]
  },
  {
   "cell_type": "markdown",
   "metadata": {},
   "source": [
    "###  MISSING VALUES AND DELETE THE ROWS"
   ]
  },
  {
   "cell_type": "code",
   "execution_count": 4,
   "metadata": {},
   "outputs": [
    {
     "data": {
      "text/plain": [
       "True"
      ]
     },
     "execution_count": 4,
     "metadata": {},
     "output_type": "execute_result"
    }
   ],
   "source": [
    "Adv.isnull().values.any()"
   ]
  },
  {
   "cell_type": "code",
   "execution_count": 5,
   "metadata": {},
   "outputs": [],
   "source": [
    "# So there are some null values in this data set."
   ]
  },
  {
   "cell_type": "code",
   "execution_count": 6,
   "metadata": {},
   "outputs": [],
   "source": [
    "Adv = Adv.dropna() # remove missing value rows"
   ]
  },
  {
   "cell_type": "code",
   "execution_count": 7,
   "metadata": {},
   "outputs": [
    {
     "name": "stdout",
     "output_type": "stream",
     "text": [
      "<class 'pandas.core.frame.DataFrame'>\n",
      "Int64Index: 197 entries, 0 to 199\n",
      "Data columns (total 6 columns):\n",
      "Sno          197 non-null int64\n",
      "TV           197 non-null float64\n",
      "Radio        197 non-null float64\n",
      "Newspaper    197 non-null float64\n",
      "Day          197 non-null object\n",
      "Sales        197 non-null float64\n",
      "dtypes: float64(4), int64(1), object(1)\n",
      "memory usage: 10.8+ KB\n"
     ]
    }
   ],
   "source": [
    "Adv.info()"
   ]
  },
  {
   "cell_type": "code",
   "execution_count": 8,
   "metadata": {},
   "outputs": [],
   "source": [
    "# After this step, we deleted 3 rows from Sno and Sales,2 rows from TV, Newspaper and Radio."
   ]
  },
  {
   "cell_type": "code",
   "execution_count": 9,
   "metadata": {},
   "outputs": [
    {
     "data": {
      "text/html": [
       "<div>\n",
       "<style scoped>\n",
       "    .dataframe tbody tr th:only-of-type {\n",
       "        vertical-align: middle;\n",
       "    }\n",
       "\n",
       "    .dataframe tbody tr th {\n",
       "        vertical-align: top;\n",
       "    }\n",
       "\n",
       "    .dataframe thead th {\n",
       "        text-align: right;\n",
       "    }\n",
       "</style>\n",
       "<table border=\"1\" class=\"dataframe\">\n",
       "  <thead>\n",
       "    <tr style=\"text-align: right;\">\n",
       "      <th></th>\n",
       "      <th>Sno</th>\n",
       "      <th>TV</th>\n",
       "      <th>Radio</th>\n",
       "      <th>Newspaper</th>\n",
       "      <th>Day</th>\n",
       "      <th>Sales</th>\n",
       "    </tr>\n",
       "  </thead>\n",
       "  <tbody>\n",
       "    <tr>\n",
       "      <td>0</td>\n",
       "      <td>1</td>\n",
       "      <td>230.1</td>\n",
       "      <td>37.8</td>\n",
       "      <td>69.2</td>\n",
       "      <td>Weekend</td>\n",
       "      <td>10.1</td>\n",
       "    </tr>\n",
       "    <tr>\n",
       "      <td>1</td>\n",
       "      <td>2</td>\n",
       "      <td>44.5</td>\n",
       "      <td>39.3</td>\n",
       "      <td>45.1</td>\n",
       "      <td>Weekdays</td>\n",
       "      <td>8.0</td>\n",
       "    </tr>\n",
       "    <tr>\n",
       "      <td>2</td>\n",
       "      <td>3</td>\n",
       "      <td>17.2</td>\n",
       "      <td>45.9</td>\n",
       "      <td>69.3</td>\n",
       "      <td>Weekdays</td>\n",
       "      <td>10.3</td>\n",
       "    </tr>\n",
       "    <tr>\n",
       "      <td>3</td>\n",
       "      <td>4</td>\n",
       "      <td>151.5</td>\n",
       "      <td>41.3</td>\n",
       "      <td>58.5</td>\n",
       "      <td>Weekdays</td>\n",
       "      <td>25.4</td>\n",
       "    </tr>\n",
       "    <tr>\n",
       "      <td>4</td>\n",
       "      <td>5</td>\n",
       "      <td>180.8</td>\n",
       "      <td>10.8</td>\n",
       "      <td>58.4</td>\n",
       "      <td>Weekdays</td>\n",
       "      <td>13.6</td>\n",
       "    </tr>\n",
       "  </tbody>\n",
       "</table>\n",
       "</div>"
      ],
      "text/plain": [
       "   Sno     TV  Radio  Newspaper       Day  Sales\n",
       "0    1  230.1   37.8       69.2   Weekend   10.1\n",
       "1    2   44.5   39.3       45.1  Weekdays    8.0\n",
       "2    3   17.2   45.9       69.3  Weekdays   10.3\n",
       "3    4  151.5   41.3       58.5  Weekdays   25.4\n",
       "4    5  180.8   10.8       58.4  Weekdays   13.6"
      ]
     },
     "execution_count": 9,
     "metadata": {},
     "output_type": "execute_result"
    }
   ],
   "source": [
    "Adv.head(5)"
   ]
  },
  {
   "cell_type": "code",
   "execution_count": 10,
   "metadata": {},
   "outputs": [],
   "source": [
    "Adv['Day'] = Adv['Day'].astype(str)"
   ]
  },
  {
   "cell_type": "code",
   "execution_count": 11,
   "metadata": {},
   "outputs": [
    {
     "name": "stdout",
     "output_type": "stream",
     "text": [
      "<class 'pandas.core.frame.DataFrame'>\n",
      "Int64Index: 197 entries, 0 to 199\n",
      "Data columns (total 6 columns):\n",
      "Sno          197 non-null int64\n",
      "TV           197 non-null float64\n",
      "Radio        197 non-null float64\n",
      "Newspaper    197 non-null float64\n",
      "Day          197 non-null object\n",
      "Sales        197 non-null float64\n",
      "dtypes: float64(4), int64(1), object(1)\n",
      "memory usage: 10.8+ KB\n"
     ]
    }
   ],
   "source": [
    "Adv.info()"
   ]
  },
  {
   "cell_type": "markdown",
   "metadata": {},
   "source": [
    "###  Encode the Categorical Variables "
   ]
  },
  {
   "cell_type": "code",
   "execution_count": 12,
   "metadata": {},
   "outputs": [
    {
     "data": {
      "text/plain": [
       "array(['Weekend', 'Weekdays', 'Holiday'], dtype=object)"
      ]
     },
     "execution_count": 12,
     "metadata": {},
     "output_type": "execute_result"
    }
   ],
   "source": [
    "Adv['Day'].unique()"
   ]
  },
  {
   "cell_type": "code",
   "execution_count": 13,
   "metadata": {},
   "outputs": [
    {
     "data": {
      "text/html": [
       "<div>\n",
       "<style scoped>\n",
       "    .dataframe tbody tr th:only-of-type {\n",
       "        vertical-align: middle;\n",
       "    }\n",
       "\n",
       "    .dataframe tbody tr th {\n",
       "        vertical-align: top;\n",
       "    }\n",
       "\n",
       "    .dataframe thead th {\n",
       "        text-align: right;\n",
       "    }\n",
       "</style>\n",
       "<table border=\"1\" class=\"dataframe\">\n",
       "  <thead>\n",
       "    <tr style=\"text-align: right;\">\n",
       "      <th></th>\n",
       "      <th>Holiday</th>\n",
       "      <th>Weekdays</th>\n",
       "      <th>Weekend</th>\n",
       "    </tr>\n",
       "  </thead>\n",
       "  <tbody>\n",
       "    <tr>\n",
       "      <td>0</td>\n",
       "      <td>0</td>\n",
       "      <td>0</td>\n",
       "      <td>1</td>\n",
       "    </tr>\n",
       "    <tr>\n",
       "      <td>1</td>\n",
       "      <td>0</td>\n",
       "      <td>1</td>\n",
       "      <td>0</td>\n",
       "    </tr>\n",
       "    <tr>\n",
       "      <td>2</td>\n",
       "      <td>0</td>\n",
       "      <td>1</td>\n",
       "      <td>0</td>\n",
       "    </tr>\n",
       "    <tr>\n",
       "      <td>3</td>\n",
       "      <td>0</td>\n",
       "      <td>1</td>\n",
       "      <td>0</td>\n",
       "    </tr>\n",
       "    <tr>\n",
       "      <td>4</td>\n",
       "      <td>0</td>\n",
       "      <td>1</td>\n",
       "      <td>0</td>\n",
       "    </tr>\n",
       "    <tr>\n",
       "      <td>5</td>\n",
       "      <td>0</td>\n",
       "      <td>1</td>\n",
       "      <td>0</td>\n",
       "    </tr>\n",
       "    <tr>\n",
       "      <td>6</td>\n",
       "      <td>0</td>\n",
       "      <td>1</td>\n",
       "      <td>0</td>\n",
       "    </tr>\n",
       "    <tr>\n",
       "      <td>7</td>\n",
       "      <td>0</td>\n",
       "      <td>1</td>\n",
       "      <td>0</td>\n",
       "    </tr>\n",
       "    <tr>\n",
       "      <td>8</td>\n",
       "      <td>0</td>\n",
       "      <td>1</td>\n",
       "      <td>0</td>\n",
       "    </tr>\n",
       "    <tr>\n",
       "      <td>9</td>\n",
       "      <td>0</td>\n",
       "      <td>1</td>\n",
       "      <td>0</td>\n",
       "    </tr>\n",
       "  </tbody>\n",
       "</table>\n",
       "</div>"
      ],
      "text/plain": [
       "   Holiday  Weekdays  Weekend\n",
       "0        0         0        1\n",
       "1        0         1        0\n",
       "2        0         1        0\n",
       "3        0         1        0\n",
       "4        0         1        0\n",
       "5        0         1        0\n",
       "6        0         1        0\n",
       "7        0         1        0\n",
       "8        0         1        0\n",
       "9        0         1        0"
      ]
     },
     "execution_count": 13,
     "metadata": {},
     "output_type": "execute_result"
    }
   ],
   "source": [
    "pd.get_dummies(Adv['Day'])[0:10]"
   ]
  },
  {
   "cell_type": "code",
   "execution_count": 14,
   "metadata": {},
   "outputs": [],
   "source": [
    "X_load = ['TV', 'Radio', 'Newspaper', 'Day']"
   ]
  },
  {
   "cell_type": "code",
   "execution_count": 15,
   "metadata": {},
   "outputs": [],
   "source": [
    "Adv_encoded = pd.get_dummies( Adv[X_load], drop_first = True )"
   ]
  },
  {
   "cell_type": "code",
   "execution_count": 16,
   "metadata": {},
   "outputs": [
    {
     "data": {
      "text/plain": [
       "Index(['TV', 'Radio', 'Newspaper', 'Day_Weekdays', 'Day_Weekend'], dtype='object')"
      ]
     },
     "execution_count": 16,
     "metadata": {},
     "output_type": "execute_result"
    }
   ],
   "source": [
    "Adv_encoded.columns"
   ]
  },
  {
   "cell_type": "code",
   "execution_count": 17,
   "metadata": {},
   "outputs": [],
   "source": [
    "X_load = Adv_encoded.columns"
   ]
  },
  {
   "cell_type": "code",
   "execution_count": 18,
   "metadata": {},
   "outputs": [
    {
     "data": {
      "text/plain": [
       "Index(['TV', 'Radio', 'Newspaper', 'Day_Weekdays', 'Day_Weekend'], dtype='object')"
      ]
     },
     "execution_count": 18,
     "metadata": {},
     "output_type": "execute_result"
    }
   ],
   "source": [
    "X_load"
   ]
  },
  {
   "cell_type": "markdown",
   "metadata": {},
   "source": [
    "###  DESCRIPTIVE SUMMARY"
   ]
  },
  {
   "cell_type": "code",
   "execution_count": 19,
   "metadata": {},
   "outputs": [
    {
     "data": {
      "text/html": [
       "<div>\n",
       "<style scoped>\n",
       "    .dataframe tbody tr th:only-of-type {\n",
       "        vertical-align: middle;\n",
       "    }\n",
       "\n",
       "    .dataframe tbody tr th {\n",
       "        vertical-align: top;\n",
       "    }\n",
       "\n",
       "    .dataframe thead th {\n",
       "        text-align: right;\n",
       "    }\n",
       "</style>\n",
       "<table border=\"1\" class=\"dataframe\">\n",
       "  <thead>\n",
       "    <tr style=\"text-align: right;\">\n",
       "      <th></th>\n",
       "      <th>TV</th>\n",
       "      <th>Radio</th>\n",
       "      <th>Newspaper</th>\n",
       "      <th>Sales</th>\n",
       "    </tr>\n",
       "  </thead>\n",
       "  <tbody>\n",
       "    <tr>\n",
       "      <td>count</td>\n",
       "      <td>197.000000</td>\n",
       "      <td>197.000000</td>\n",
       "      <td>197.000000</td>\n",
       "      <td>197.000000</td>\n",
       "    </tr>\n",
       "    <tr>\n",
       "      <td>mean</td>\n",
       "      <td>146.242132</td>\n",
       "      <td>23.152284</td>\n",
       "      <td>30.375635</td>\n",
       "      <td>14.102030</td>\n",
       "    </tr>\n",
       "    <tr>\n",
       "      <td>std</td>\n",
       "      <td>85.439138</td>\n",
       "      <td>14.922793</td>\n",
       "      <td>20.972370</td>\n",
       "      <td>5.192302</td>\n",
       "    </tr>\n",
       "    <tr>\n",
       "      <td>min</td>\n",
       "      <td>0.700000</td>\n",
       "      <td>0.000000</td>\n",
       "      <td>0.300000</td>\n",
       "      <td>1.600000</td>\n",
       "    </tr>\n",
       "    <tr>\n",
       "      <td>25%</td>\n",
       "      <td>74.700000</td>\n",
       "      <td>9.900000</td>\n",
       "      <td>12.900000</td>\n",
       "      <td>10.400000</td>\n",
       "    </tr>\n",
       "    <tr>\n",
       "      <td>50%</td>\n",
       "      <td>149.700000</td>\n",
       "      <td>22.300000</td>\n",
       "      <td>25.900000</td>\n",
       "      <td>12.900000</td>\n",
       "    </tr>\n",
       "    <tr>\n",
       "      <td>75%</td>\n",
       "      <td>218.400000</td>\n",
       "      <td>36.500000</td>\n",
       "      <td>45.100000</td>\n",
       "      <td>17.400000</td>\n",
       "    </tr>\n",
       "    <tr>\n",
       "      <td>max</td>\n",
       "      <td>296.400000</td>\n",
       "      <td>49.600000</td>\n",
       "      <td>100.900000</td>\n",
       "      <td>27.000000</td>\n",
       "    </tr>\n",
       "  </tbody>\n",
       "</table>\n",
       "</div>"
      ],
      "text/plain": [
       "               TV       Radio   Newspaper       Sales\n",
       "count  197.000000  197.000000  197.000000  197.000000\n",
       "mean   146.242132   23.152284   30.375635   14.102030\n",
       "std     85.439138   14.922793   20.972370    5.192302\n",
       "min      0.700000    0.000000    0.300000    1.600000\n",
       "25%     74.700000    9.900000   12.900000   10.400000\n",
       "50%    149.700000   22.300000   25.900000   12.900000\n",
       "75%    218.400000   36.500000   45.100000   17.400000\n",
       "max    296.400000   49.600000  100.900000   27.000000"
      ]
     },
     "execution_count": 19,
     "metadata": {},
     "output_type": "execute_result"
    }
   ],
   "source": [
    "Adv[[\"TV\", \"Radio\",\"Newspaper\",\"Sales\"]].describe()"
   ]
  },
  {
   "cell_type": "code",
   "execution_count": 20,
   "metadata": {},
   "outputs": [
    {
     "data": {
      "text/html": [
       "<div>\n",
       "<style scoped>\n",
       "    .dataframe tbody tr th:only-of-type {\n",
       "        vertical-align: middle;\n",
       "    }\n",
       "\n",
       "    .dataframe tbody tr th {\n",
       "        vertical-align: top;\n",
       "    }\n",
       "\n",
       "    .dataframe thead th {\n",
       "        text-align: right;\n",
       "    }\n",
       "</style>\n",
       "<table border=\"1\" class=\"dataframe\">\n",
       "  <thead>\n",
       "    <tr style=\"text-align: right;\">\n",
       "      <th></th>\n",
       "      <th>TV</th>\n",
       "      <th>Radio</th>\n",
       "      <th>Newspaper</th>\n",
       "      <th>Day_Weekdays</th>\n",
       "      <th>Day_Weekend</th>\n",
       "    </tr>\n",
       "  </thead>\n",
       "  <tbody>\n",
       "    <tr>\n",
       "      <td>count</td>\n",
       "      <td>197.000000</td>\n",
       "      <td>197.000000</td>\n",
       "      <td>197.000000</td>\n",
       "      <td>197.000000</td>\n",
       "      <td>197.000000</td>\n",
       "    </tr>\n",
       "    <tr>\n",
       "      <td>mean</td>\n",
       "      <td>146.242132</td>\n",
       "      <td>23.152284</td>\n",
       "      <td>30.375635</td>\n",
       "      <td>0.766497</td>\n",
       "      <td>0.213198</td>\n",
       "    </tr>\n",
       "    <tr>\n",
       "      <td>std</td>\n",
       "      <td>85.439138</td>\n",
       "      <td>14.922793</td>\n",
       "      <td>20.972370</td>\n",
       "      <td>0.424137</td>\n",
       "      <td>0.410610</td>\n",
       "    </tr>\n",
       "    <tr>\n",
       "      <td>min</td>\n",
       "      <td>0.700000</td>\n",
       "      <td>0.000000</td>\n",
       "      <td>0.300000</td>\n",
       "      <td>0.000000</td>\n",
       "      <td>0.000000</td>\n",
       "    </tr>\n",
       "    <tr>\n",
       "      <td>25%</td>\n",
       "      <td>74.700000</td>\n",
       "      <td>9.900000</td>\n",
       "      <td>12.900000</td>\n",
       "      <td>1.000000</td>\n",
       "      <td>0.000000</td>\n",
       "    </tr>\n",
       "    <tr>\n",
       "      <td>50%</td>\n",
       "      <td>149.700000</td>\n",
       "      <td>22.300000</td>\n",
       "      <td>25.900000</td>\n",
       "      <td>1.000000</td>\n",
       "      <td>0.000000</td>\n",
       "    </tr>\n",
       "    <tr>\n",
       "      <td>75%</td>\n",
       "      <td>218.400000</td>\n",
       "      <td>36.500000</td>\n",
       "      <td>45.100000</td>\n",
       "      <td>1.000000</td>\n",
       "      <td>0.000000</td>\n",
       "    </tr>\n",
       "    <tr>\n",
       "      <td>max</td>\n",
       "      <td>296.400000</td>\n",
       "      <td>49.600000</td>\n",
       "      <td>100.900000</td>\n",
       "      <td>1.000000</td>\n",
       "      <td>1.000000</td>\n",
       "    </tr>\n",
       "  </tbody>\n",
       "</table>\n",
       "</div>"
      ],
      "text/plain": [
       "               TV       Radio   Newspaper  Day_Weekdays  Day_Weekend\n",
       "count  197.000000  197.000000  197.000000    197.000000   197.000000\n",
       "mean   146.242132   23.152284   30.375635      0.766497     0.213198\n",
       "std     85.439138   14.922793   20.972370      0.424137     0.410610\n",
       "min      0.700000    0.000000    0.300000      0.000000     0.000000\n",
       "25%     74.700000    9.900000   12.900000      1.000000     0.000000\n",
       "50%    149.700000   22.300000   25.900000      1.000000     0.000000\n",
       "75%    218.400000   36.500000   45.100000      1.000000     0.000000\n",
       "max    296.400000   49.600000  100.900000      1.000000     1.000000"
      ]
     },
     "execution_count": 20,
     "metadata": {},
     "output_type": "execute_result"
    }
   ],
   "source": [
    "Adv_encoded.describe()"
   ]
  },
  {
   "cell_type": "markdown",
   "metadata": {},
   "source": [
    "### VISUALIZATION"
   ]
  },
  {
   "cell_type": "code",
   "execution_count": 21,
   "metadata": {},
   "outputs": [],
   "source": [
    "get_ipython().magic('matplotlib inline')\n",
    "import seaborn as sn\n",
    "import matplotlib.pyplot as plt"
   ]
  },
  {
   "cell_type": "code",
   "execution_count": 22,
   "metadata": {},
   "outputs": [
    {
     "data": {
      "text/html": [
       "<div>\n",
       "<style scoped>\n",
       "    .dataframe tbody tr th:only-of-type {\n",
       "        vertical-align: middle;\n",
       "    }\n",
       "\n",
       "    .dataframe tbody tr th {\n",
       "        vertical-align: top;\n",
       "    }\n",
       "\n",
       "    .dataframe thead th {\n",
       "        text-align: right;\n",
       "    }\n",
       "</style>\n",
       "<table border=\"1\" class=\"dataframe\">\n",
       "  <thead>\n",
       "    <tr style=\"text-align: right;\">\n",
       "      <th></th>\n",
       "      <th>Sno</th>\n",
       "      <th>TV</th>\n",
       "      <th>Radio</th>\n",
       "      <th>Newspaper</th>\n",
       "      <th>Sales</th>\n",
       "    </tr>\n",
       "  </thead>\n",
       "  <tbody>\n",
       "    <tr>\n",
       "      <td>Sno</td>\n",
       "      <td>1.000000</td>\n",
       "      <td>0.023044</td>\n",
       "      <td>-0.102923</td>\n",
       "      <td>-0.143636</td>\n",
       "      <td>0.006161</td>\n",
       "    </tr>\n",
       "    <tr>\n",
       "      <td>TV</td>\n",
       "      <td>0.023044</td>\n",
       "      <td>1.000000</td>\n",
       "      <td>0.055658</td>\n",
       "      <td>0.095794</td>\n",
       "      <td>0.047781</td>\n",
       "    </tr>\n",
       "    <tr>\n",
       "      <td>Radio</td>\n",
       "      <td>-0.102923</td>\n",
       "      <td>0.055658</td>\n",
       "      <td>1.000000</td>\n",
       "      <td>0.356668</td>\n",
       "      <td>0.001630</td>\n",
       "    </tr>\n",
       "    <tr>\n",
       "      <td>Newspaper</td>\n",
       "      <td>-0.143636</td>\n",
       "      <td>0.095794</td>\n",
       "      <td>0.356668</td>\n",
       "      <td>1.000000</td>\n",
       "      <td>-0.027103</td>\n",
       "    </tr>\n",
       "    <tr>\n",
       "      <td>Sales</td>\n",
       "      <td>0.006161</td>\n",
       "      <td>0.047781</td>\n",
       "      <td>0.001630</td>\n",
       "      <td>-0.027103</td>\n",
       "      <td>1.000000</td>\n",
       "    </tr>\n",
       "  </tbody>\n",
       "</table>\n",
       "</div>"
      ],
      "text/plain": [
       "                Sno        TV     Radio  Newspaper     Sales\n",
       "Sno        1.000000  0.023044 -0.102923  -0.143636  0.006161\n",
       "TV         0.023044  1.000000  0.055658   0.095794  0.047781\n",
       "Radio     -0.102923  0.055658  1.000000   0.356668  0.001630\n",
       "Newspaper -0.143636  0.095794  0.356668   1.000000 -0.027103\n",
       "Sales      0.006161  0.047781  0.001630  -0.027103  1.000000"
      ]
     },
     "execution_count": 22,
     "metadata": {},
     "output_type": "execute_result"
    }
   ],
   "source": [
    "Adv.corr()"
   ]
  },
  {
   "cell_type": "code",
   "execution_count": 23,
   "metadata": {},
   "outputs": [
    {
     "data": {
      "text/plain": [
       "<matplotlib.axes._subplots.AxesSubplot at 0x126b30285c8>"
      ]
     },
     "execution_count": 23,
     "metadata": {},
     "output_type": "execute_result"
    },
    {
     "data": {
      "image/png": "[encoded data removed]",
      "text/plain": [
       "<Figure size 432x288 with 2 Axes>"
      ]
     },
     "metadata": {
      "needs_background": "light"
     },
     "output_type": "display_data"
    }
   ],
   "source": [
    "sn.heatmap( Adv.corr(), annot = True )"
   ]
  },
  {
   "cell_type": "code",
   "execution_count": 24,
   "metadata": {},
   "outputs": [
    {
     "data": {
      "text/html": [
       "<div>\n",
       "<style scoped>\n",
       "    .dataframe tbody tr th:only-of-type {\n",
       "        vertical-align: middle;\n",
       "    }\n",
       "\n",
       "    .dataframe tbody tr th {\n",
       "        vertical-align: top;\n",
       "    }\n",
       "\n",
       "    .dataframe thead th {\n",
       "        text-align: right;\n",
       "    }\n",
       "</style>\n",
       "<table border=\"1\" class=\"dataframe\">\n",
       "  <thead>\n",
       "    <tr style=\"text-align: right;\">\n",
       "      <th></th>\n",
       "      <th>TV</th>\n",
       "      <th>Radio</th>\n",
       "      <th>Newspaper</th>\n",
       "      <th>Day_Weekdays</th>\n",
       "      <th>Day_Weekend</th>\n",
       "    </tr>\n",
       "  </thead>\n",
       "  <tbody>\n",
       "    <tr>\n",
       "      <td>TV</td>\n",
       "      <td>1.000000</td>\n",
       "      <td>0.055658</td>\n",
       "      <td>0.095794</td>\n",
       "      <td>-0.701157</td>\n",
       "      <td>0.661571</td>\n",
       "    </tr>\n",
       "    <tr>\n",
       "      <td>Radio</td>\n",
       "      <td>0.055658</td>\n",
       "      <td>1.000000</td>\n",
       "      <td>0.356668</td>\n",
       "      <td>0.001294</td>\n",
       "      <td>-0.004410</td>\n",
       "    </tr>\n",
       "    <tr>\n",
       "      <td>Newspaper</td>\n",
       "      <td>0.095794</td>\n",
       "      <td>0.356668</td>\n",
       "      <td>1.000000</td>\n",
       "      <td>-0.121552</td>\n",
       "      <td>0.097357</td>\n",
       "    </tr>\n",
       "    <tr>\n",
       "      <td>Day_Weekdays</td>\n",
       "      <td>-0.701157</td>\n",
       "      <td>0.001294</td>\n",
       "      <td>-0.121552</td>\n",
       "      <td>1.000000</td>\n",
       "      <td>-0.943123</td>\n",
       "    </tr>\n",
       "    <tr>\n",
       "      <td>Day_Weekend</td>\n",
       "      <td>0.661571</td>\n",
       "      <td>-0.004410</td>\n",
       "      <td>0.097357</td>\n",
       "      <td>-0.943123</td>\n",
       "      <td>1.000000</td>\n",
       "    </tr>\n",
       "  </tbody>\n",
       "</table>\n",
       "</div>"
      ],
      "text/plain": [
       "                    TV     Radio  Newspaper  Day_Weekdays  Day_Weekend\n",
       "TV            1.000000  0.055658   0.095794     -0.701157     0.661571\n",
       "Radio         0.055658  1.000000   0.356668      0.001294    -0.004410\n",
       "Newspaper     0.095794  0.356668   1.000000     -0.121552     0.097357\n",
       "Day_Weekdays -0.701157  0.001294  -0.121552      1.000000    -0.943123\n",
       "Day_Weekend   0.661571 -0.004410   0.097357     -0.943123     1.000000"
      ]
     },
     "execution_count": 24,
     "metadata": {},
     "output_type": "execute_result"
    }
   ],
   "source": [
    "Adv_encoded.corr()"
   ]
  },
  {
   "cell_type": "code",
   "execution_count": 25,
   "metadata": {},
   "outputs": [
    {
     "data": {
      "text/plain": [
       "<matplotlib.axes._subplots.AxesSubplot at 0x126b33f03c8>"
      ]
     },
     "execution_count": 25,
     "metadata": {},
     "output_type": "execute_result"
    },
    {
     "data": {
      "image/png": "[encoded data removed]",
      "text/plain": [
       "<Figure size 432x288 with 2 Axes>"
      ]
     },
     "metadata": {
      "needs_background": "light"
     },
     "output_type": "display_data"
    }
   ],
   "source": [
    "sn.heatmap( Adv.corr(), annot = True )"
   ]
  },
  {
   "cell_type": "code",
   "execution_count": 26,
   "metadata": {},
   "outputs": [],
   "source": [
    "# There is no auto correlation in these variables.\n",
    "# Radio and Newspaper show highest correlation with 36&"
   ]
  },
  {
   "cell_type": "code",
   "execution_count": 27,
   "metadata": {},
   "outputs": [],
   "source": [
    "Day_sales = Adv.groupby('Day')['Sales'].mean().reset_index()"
   ]
  },
  {
   "cell_type": "code",
   "execution_count": 28,
   "metadata": {},
   "outputs": [
    {
     "data": {
      "text/plain": [
       "<matplotlib.axes._subplots.AxesSubplot at 0x126b34e6f88>"
      ]
     },
     "execution_count": 28,
     "metadata": {},
     "output_type": "execute_result"
    },
    {
     "data": {
      "image/png": "[encoded data removed]",
      "text/plain": [
       "<Figure size 432x288 with 1 Axes>"
      ]
     },
     "metadata": {
      "needs_background": "light"
     },
     "output_type": "display_data"
    }
   ],
   "source": [
    "sn.lineplot( x = 'Day', y = 'Sales', data = Day_sales )"
   ]
  },
  {
   "cell_type": "code",
   "execution_count": 29,
   "metadata": {},
   "outputs": [
    {
     "data": {
      "text/plain": [
       "<matplotlib.axes._subplots.AxesSubplot at 0x126b354f688>"
      ]
     },
     "execution_count": 29,
     "metadata": {},
     "output_type": "execute_result"
    },
    {
     "data": {
      "image/png": "[encoded data removed]",
      "text/plain": [
       "<Figure size 432x288 with 1 Axes>"
      ]
     },
     "metadata": {
      "needs_background": "light"
     },
     "output_type": "display_data"
    }
   ],
   "source": [
    "sn.barplot( x = 'Day', y = 'Sales', data = Day_sales )"
   ]
  },
  {
   "cell_type": "code",
   "execution_count": 30,
   "metadata": {},
   "outputs": [
    {
     "data": {
      "text/plain": [
       "<seaborn.axisgrid.FacetGrid at 0x126b34d1dc8>"
      ]
     },
     "execution_count": 30,
     "metadata": {},
     "output_type": "execute_result"
    },
    {
     "data": {
      "image/png": "[encoded data removed]",
      "text/plain": [
       "<Figure size 432x432 with 1 Axes>"
      ]
     },
     "metadata": {
      "needs_background": "light"
     },
     "output_type": "display_data"
    }
   ],
   "source": [
    "sn.catplot( x = 'Day', y = 'Sales', kind = 'point', data = Day_sales, height = 6 )"
   ]
  },
  {
   "cell_type": "code",
   "execution_count": 31,
   "metadata": {},
   "outputs": [],
   "source": [
    "# Day varibale is a significant for sales and sales are high on weekend and low on holiday as refer most people are free and willing to purchase on weekand rather than holiday  "
   ]
  },
  {
   "cell_type": "markdown",
   "metadata": {},
   "source": [
    "### Split the dataset"
   ]
  },
  {
   "cell_type": "code",
   "execution_count": 32,
   "metadata": {},
   "outputs": [],
   "source": [
    "import statsmodels.api as sm\n",
    "from sklearn.model_selection import train_test_split\n",
    "X = sm.add_constant( Adv_encoded )\n",
    "Y = Adv['Sales']\n",
    "train_X, test_X, train_y, test_y = train_test_split( X ,Y,train_size = 0.7,random_state = 62 ) # split the dataset as Train and Test in 70:30"
   ]
  },
  {
   "cell_type": "markdown",
   "metadata": {},
   "source": [
    "### Train the model using Multtple Linear Regression Model"
   ]
  },
  {
   "cell_type": "code",
   "execution_count": 33,
   "metadata": {},
   "outputs": [
    {
     "data": {
      "text/html": [
       "<table class=\"simpletable\">\n",
       "<tr>\n",
       "        <td>Model:</td>               <td>OLS</td>         <td>Adj. R-squared:</td>    <td>-0.023</td> \n",
       "</tr>\n",
       "<tr>\n",
       "  <td>Dependent Variable:</td>       <td>Sales</td>             <td>AIC:</td>         <td>856.0133</td>\n",
       "</tr>\n",
       "<tr>\n",
       "         <td>Date:</td>        <td>2020-08-12 20:10</td>        <td>BIC:</td>         <td>873.5332</td>\n",
       "</tr>\n",
       "<tr>\n",
       "   <td>No. Observations:</td>         <td>137</td>         <td>Log-Likelihood:</td>    <td>-422.01</td>\n",
       "</tr>\n",
       "<tr>\n",
       "       <td>Df Model:</td>              <td>5</td>           <td>F-statistic:</td>      <td>0.4007</td> \n",
       "</tr>\n",
       "<tr>\n",
       "     <td>Df Residuals:</td>           <td>131</td>       <td>Prob (F-statistic):</td>   <td>0.848</td> \n",
       "</tr>\n",
       "<tr>\n",
       "      <td>R-squared:</td>            <td>0.015</td>            <td>Scale:</td>         <td>29.008</td> \n",
       "</tr>\n",
       "</table>\n",
       "<table class=\"simpletable\">\n",
       "<tr>\n",
       "        <td></td>        <th>Coef.</th>  <th>Std.Err.</th>    <th>t</th>     <th>P>|t|</th> <th>[0.025</th>  <th>0.975]</th> \n",
       "</tr>\n",
       "<tr>\n",
       "  <th>const</th>        <td>12.6232</td>  <td>3.3377</td>  <td>3.7820</td>  <td>0.0002</td> <td>6.0204</td>  <td>19.2261</td>\n",
       "</tr>\n",
       "<tr>\n",
       "  <th>TV</th>           <td>0.0037</td>   <td>0.0071</td>  <td>0.5180</td>  <td>0.6054</td> <td>-0.0104</td> <td>0.0178</td> \n",
       "</tr>\n",
       "<tr>\n",
       "  <th>Radio</th>        <td>0.0264</td>   <td>0.0331</td>  <td>0.7967</td>  <td>0.4271</td> <td>-0.0391</td> <td>0.0918</td> \n",
       "</tr>\n",
       "<tr>\n",
       "  <th>Newspaper</th>    <td>-0.0241</td>  <td>0.0237</td>  <td>-1.0158</td> <td>0.3116</td> <td>-0.0710</td> <td>0.0228</td> \n",
       "</tr>\n",
       "<tr>\n",
       "  <th>Day_Weekdays</th> <td>1.0103</td>   <td>2.9410</td>  <td>0.3435</td>  <td>0.7318</td> <td>-4.8078</td> <td>6.8284</td> \n",
       "</tr>\n",
       "<tr>\n",
       "  <th>Day_Weekend</th>  <td>-0.1513</td>  <td>2.9295</td>  <td>-0.0516</td> <td>0.9589</td> <td>-5.9466</td> <td>5.6440</td> \n",
       "</tr>\n",
       "</table>\n",
       "<table class=\"simpletable\">\n",
       "<tr>\n",
       "     <td>Omnibus:</td>    <td>6.018</td>  <td>Durbin-Watson:</td>   <td>2.047</td>\n",
       "</tr>\n",
       "<tr>\n",
       "  <td>Prob(Omnibus):</td> <td>0.049</td> <td>Jarque-Bera (JB):</td> <td>6.149</td>\n",
       "</tr>\n",
       "<tr>\n",
       "       <td>Skew:</td>     <td>0.493</td>     <td>Prob(JB):</td>     <td>0.046</td>\n",
       "</tr>\n",
       "<tr>\n",
       "     <td>Kurtosis:</td>   <td>2.675</td>  <td>Condition No.:</td>   <td>1842</td> \n",
       "</tr>\n",
       "</table>"
      ],
      "text/plain": [
       "<class 'statsmodels.iolib.summary2.Summary'>\n",
       "\"\"\"\n",
       "                 Results: Ordinary least squares\n",
       "=================================================================\n",
       "Model:              OLS              Adj. R-squared:     -0.023  \n",
       "Dependent Variable: Sales            AIC:                856.0133\n",
       "Date:               2020-08-12 20:10 BIC:                873.5332\n",
       "No. Observations:   137              Log-Likelihood:     -422.01 \n",
       "Df Model:           5                F-statistic:        0.4007  \n",
       "Df Residuals:       131              Prob (F-statistic): 0.848   \n",
       "R-squared:          0.015            Scale:              29.008  \n",
       "------------------------------------------------------------------\n",
       "               Coef.   Std.Err.     t     P>|t|    [0.025   0.975]\n",
       "------------------------------------------------------------------\n",
       "const         12.6232    3.3377   3.7820  0.0002   6.0204  19.2261\n",
       "TV             0.0037    0.0071   0.5180  0.6054  -0.0104   0.0178\n",
       "Radio          0.0264    0.0331   0.7967  0.4271  -0.0391   0.0918\n",
       "Newspaper     -0.0241    0.0237  -1.0158  0.3116  -0.0710   0.0228\n",
       "Day_Weekdays   1.0103    2.9410   0.3435  0.7318  -4.8078   6.8284\n",
       "Day_Weekend   -0.1513    2.9295  -0.0516  0.9589  -5.9466   5.6440\n",
       "-----------------------------------------------------------------\n",
       "Omnibus:              6.018        Durbin-Watson:           2.047\n",
       "Prob(Omnibus):        0.049        Jarque-Bera (JB):        6.149\n",
       "Skew:                 0.493        Prob(JB):                0.046\n",
       "Kurtosis:             2.675        Condition No.:           1842 \n",
       "=================================================================\n",
       "* The condition number is large (2e+03). This might indicate\n",
       "strong multicollinearity or other numerical problems.\n",
       "\"\"\""
      ]
     },
     "execution_count": 33,
     "metadata": {},
     "output_type": "execute_result"
    }
   ],
   "source": [
    "Sales_model_1 = sm.OLS(train_y, train_X).fit()\n",
    "Sales_model_1.summary2()"
   ]
  },
  {
   "cell_type": "markdown",
   "metadata": {},
   "source": [
    "### Multi-Collinearity - VIF"
   ]
  },
  {
   "cell_type": "code",
   "execution_count": 34,
   "metadata": {},
   "outputs": [],
   "source": [
    "from statsmodels.stats.outliers_influence import variance_inflation_factor\n",
    "def get_vif_factors( X ):\n",
    "    X_matrix = X.as_matrix()\n",
    "    vif = [ variance_inflation_factor( X_matrix, i ) for i in range( X_matrix.shape[1] ) ]\n",
    "    vif_factors = pd.DataFrame()\n",
    "    vif_factors['column'] = X.columns\n",
    "    vif_factors['vif'] = vif\n",
    "    return vif_factors\n"
   ]
  },
  {
   "cell_type": "code",
   "execution_count": 35,
   "metadata": {},
   "outputs": [
    {
     "data": {
      "text/html": [
       "<div>\n",
       "<style scoped>\n",
       "    .dataframe tbody tr th:only-of-type {\n",
       "        vertical-align: middle;\n",
       "    }\n",
       "\n",
       "    .dataframe tbody tr th {\n",
       "        vertical-align: top;\n",
       "    }\n",
       "\n",
       "    .dataframe thead th {\n",
       "        text-align: right;\n",
       "    }\n",
       "</style>\n",
       "<table border=\"1\" class=\"dataframe\">\n",
       "  <thead>\n",
       "    <tr style=\"text-align: right;\">\n",
       "      <th></th>\n",
       "      <th>column</th>\n",
       "      <th>vif</th>\n",
       "    </tr>\n",
       "  </thead>\n",
       "  <tbody>\n",
       "    <tr>\n",
       "      <td>0</td>\n",
       "      <td>TV</td>\n",
       "      <td>5.972512</td>\n",
       "    </tr>\n",
       "    <tr>\n",
       "      <td>1</td>\n",
       "      <td>Radio</td>\n",
       "      <td>3.930583</td>\n",
       "    </tr>\n",
       "    <tr>\n",
       "      <td>2</td>\n",
       "      <td>Newspaper</td>\n",
       "      <td>3.499641</td>\n",
       "    </tr>\n",
       "    <tr>\n",
       "      <td>3</td>\n",
       "      <td>Day_Weekdays</td>\n",
       "      <td>4.513938</td>\n",
       "    </tr>\n",
       "    <tr>\n",
       "      <td>4</td>\n",
       "      <td>Day_Weekend</td>\n",
       "      <td>4.048673</td>\n",
       "    </tr>\n",
       "  </tbody>\n",
       "</table>\n",
       "</div>"
      ],
      "text/plain": [
       "         column       vif\n",
       "0            TV  5.972512\n",
       "1         Radio  3.930583\n",
       "2     Newspaper  3.499641\n",
       "3  Day_Weekdays  4.513938\n",
       "4   Day_Weekend  4.048673"
      ]
     },
     "execution_count": 35,
     "metadata": {},
     "output_type": "execute_result"
    }
   ],
   "source": [
    "vif_factors = get_vif_factors( X[X_load] )\n",
    "vif_factors"
   ]
  },
  {
   "cell_type": "code",
   "execution_count": 36,
   "metadata": {},
   "outputs": [],
   "source": [
    "larger_vif = vif_factors[vif_factors.vif > 4].column"
   ]
  },
  {
   "cell_type": "code",
   "execution_count": 37,
   "metadata": {},
   "outputs": [
    {
     "data": {
      "text/plain": [
       "0              TV\n",
       "3    Day_Weekdays\n",
       "4     Day_Weekend\n",
       "Name: column, dtype: object"
      ]
     },
     "execution_count": 37,
     "metadata": {},
     "output_type": "execute_result"
    }
   ],
   "source": [
    "larger_vif"
   ]
  },
  {
   "cell_type": "code",
   "execution_count": 38,
   "metadata": {},
   "outputs": [],
   "source": [
    "columns_to_be_removed = ['TV', 'Day_Weekdays', 'Day_Weekend']"
   ]
  },
  {
   "cell_type": "code",
   "execution_count": 39,
   "metadata": {},
   "outputs": [
    {
     "data": {
      "text/plain": [
       "['Radio', 'Newspaper']"
      ]
     },
     "execution_count": 39,
     "metadata": {},
     "output_type": "execute_result"
    }
   ],
   "source": [
    "X_new_load = list( set(X_load) - set(columns_to_be_removed) )\n",
    "X_new_load"
   ]
  },
  {
   "cell_type": "code",
   "execution_count": 40,
   "metadata": {},
   "outputs": [
    {
     "data": {
      "text/html": [
       "<div>\n",
       "<style scoped>\n",
       "    .dataframe tbody tr th:only-of-type {\n",
       "        vertical-align: middle;\n",
       "    }\n",
       "\n",
       "    .dataframe tbody tr th {\n",
       "        vertical-align: top;\n",
       "    }\n",
       "\n",
       "    .dataframe thead th {\n",
       "        text-align: right;\n",
       "    }\n",
       "</style>\n",
       "<table border=\"1\" class=\"dataframe\">\n",
       "  <thead>\n",
       "    <tr style=\"text-align: right;\">\n",
       "      <th></th>\n",
       "      <th>column</th>\n",
       "      <th>vif</th>\n",
       "    </tr>\n",
       "  </thead>\n",
       "  <tbody>\n",
       "    <tr>\n",
       "      <td>0</td>\n",
       "      <td>Radio</td>\n",
       "      <td>2.804843</td>\n",
       "    </tr>\n",
       "    <tr>\n",
       "      <td>1</td>\n",
       "      <td>Newspaper</td>\n",
       "      <td>2.804843</td>\n",
       "    </tr>\n",
       "  </tbody>\n",
       "</table>\n",
       "</div>"
      ],
      "text/plain": [
       "      column       vif\n",
       "0      Radio  2.804843\n",
       "1  Newspaper  2.804843"
      ]
     },
     "execution_count": 40,
     "metadata": {},
     "output_type": "execute_result"
    }
   ],
   "source": [
    "get_vif_factors( X[X_new_load] )"
   ]
  },
  {
   "cell_type": "code",
   "execution_count": 41,
   "metadata": {},
   "outputs": [
    {
     "data": {
      "text/html": [
       "<table class=\"simpletable\">\n",
       "<tr>\n",
       "          <td>Model:</td>                 <td>OLS</td>       <td>Adj. R-squared (uncentered):</td>   <td>0.646</td> \n",
       "</tr>\n",
       "<tr>\n",
       "    <td>Dependent Variable:</td>         <td>Sales</td>                  <td>AIC:</td>             <td>987.0019</td>\n",
       "</tr>\n",
       "<tr>\n",
       "           <td>Date:</td>          <td>2020-08-12 20:10</td>             <td>BIC:</td>             <td>992.8419</td>\n",
       "</tr>\n",
       "<tr>\n",
       "     <td>No. Observations:</td>           <td>137</td>              <td>Log-Likelihood:</td>        <td>-491.50</td>\n",
       "</tr>\n",
       "<tr>\n",
       "         <td>Df Model:</td>                <td>2</td>                <td>F-statistic:</td>           <td>125.9</td> \n",
       "</tr>\n",
       "<tr>\n",
       "       <td>Df Residuals:</td>             <td>135</td>            <td>Prob (F-statistic):</td>     <td>1.39e-31</td>\n",
       "</tr>\n",
       "<tr>\n",
       "  <td>R-squared (uncentered):</td>       <td>0.651</td>                 <td>Scale:</td>             <td>77.636</td> \n",
       "</tr>\n",
       "</table>\n",
       "<table class=\"simpletable\">\n",
       "<tr>\n",
       "      <td></td>       <th>Coef.</th> <th>Std.Err.</th>    <th>t</th>    <th>P>|t|</th> <th>[0.025</th> <th>0.975]</th>\n",
       "</tr>\n",
       "<tr>\n",
       "  <th>Radio</th>     <td>0.2876</td>  <td>0.0455</td>  <td>6.3187</td> <td>0.0000</td> <td>0.1976</td> <td>0.3777</td>\n",
       "</tr>\n",
       "<tr>\n",
       "  <th>Newspaper</th> <td>0.1289</td>  <td>0.0347</td>  <td>3.7158</td> <td>0.0003</td> <td>0.0603</td> <td>0.1975</td>\n",
       "</tr>\n",
       "</table>\n",
       "<table class=\"simpletable\">\n",
       "<tr>\n",
       "     <td>Omnibus:</td>     <td>0.250</td>  <td>Durbin-Watson:</td>   <td>1.630</td>\n",
       "</tr>\n",
       "<tr>\n",
       "  <td>Prob(Omnibus):</td>  <td>0.883</td> <td>Jarque-Bera (JB):</td> <td>0.418</td>\n",
       "</tr>\n",
       "<tr>\n",
       "       <td>Skew:</td>     <td>-0.039</td>     <td>Prob(JB):</td>     <td>0.811</td>\n",
       "</tr>\n",
       "<tr>\n",
       "     <td>Kurtosis:</td>    <td>2.741</td>  <td>Condition No.:</td>     <td>3</td>  \n",
       "</tr>\n",
       "</table>"
      ],
      "text/plain": [
       "<class 'statsmodels.iolib.summary2.Summary'>\n",
       "\"\"\"\n",
       "                       Results: Ordinary least squares\n",
       "==============================================================================\n",
       "Model:                  OLS              Adj. R-squared (uncentered): 0.646   \n",
       "Dependent Variable:     Sales            AIC:                         987.0019\n",
       "Date:                   2020-08-12 20:10 BIC:                         992.8419\n",
       "No. Observations:       137              Log-Likelihood:              -491.50 \n",
       "Df Model:               2                F-statistic:                 125.9   \n",
       "Df Residuals:           135              Prob (F-statistic):          1.39e-31\n",
       "R-squared (uncentered): 0.651            Scale:                       77.636  \n",
       "-----------------------------------------------------------------------------------\n",
       "               Coef.       Std.Err.        t         P>|t|       [0.025      0.975]\n",
       "-----------------------------------------------------------------------------------\n",
       "Radio          0.2876        0.0455      6.3187      0.0000      0.1976      0.3777\n",
       "Newspaper      0.1289        0.0347      3.7158      0.0003      0.0603      0.1975\n",
       "------------------------------------------------------------------------------\n",
       "Omnibus:                  0.250             Durbin-Watson:               1.630\n",
       "Prob(Omnibus):            0.883             Jarque-Bera (JB):            0.418\n",
       "Skew:                     -0.039            Prob(JB):                    0.811\n",
       "Kurtosis:                 2.741             Condition No.:               3    \n",
       "==============================================================================\n",
       "\n",
       "\"\"\""
      ]
     },
     "execution_count": 41,
     "metadata": {},
     "output_type": "execute_result"
    }
   ],
   "source": [
    "train_X = train_X[X_new_load]\n",
    "Sales_model_2 = sm.OLS(train_y, train_X).fit()\n",
    "Sales_model_2.summary2()"
   ]
  },
  {
   "cell_type": "code",
   "execution_count": 42,
   "metadata": {},
   "outputs": [],
   "source": [
    "# Radio, Newspaper variables are signifiant variables."
   ]
  },
  {
   "cell_type": "markdown",
   "metadata": {},
   "source": [
    "### Residual Analysis\n",
    "#### P-P Plot"
   ]
  },
  {
   "cell_type": "code",
   "execution_count": 43,
   "metadata": {},
   "outputs": [
    {
     "data": {
      "text/plain": [
       "<Figure size 576x432 with 0 Axes>"
      ]
     },
     "metadata": {},
     "output_type": "display_data"
    },
    {
     "data": {
      "image/png": "[encoded data removed]",
      "text/plain": [
       "<Figure size 432x288 with 1 Axes>"
      ]
     },
     "metadata": {
      "needs_background": "light"
     },
     "output_type": "display_data"
    }
   ],
   "source": [
    "probplot = sm.ProbPlot(Sales_model_2.resid )\n",
    "plt.figure( figsize = (8, 6) )\n",
    "probplot.ppplot( line='45' )\n",
    "plt.title( \"Fig 1 - Normal P-P Plot of Regression Standardized Residuals\" )\n",
    "plt.show()"
   ]
  },
  {
   "cell_type": "code",
   "execution_count": 44,
   "metadata": {},
   "outputs": [
    {
     "data": {
      "text/plain": [
       "Text(0, 0.5, 'Standardized residual values')"
      ]
     },
     "execution_count": 44,
     "metadata": {},
     "output_type": "execute_result"
    },
    {
     "data": {
      "image/png": "[encoded data removed]",
      "text/plain": [
       "<Figure size 432x288 with 1 Axes>"
      ]
     },
     "metadata": {
      "needs_background": "light"
     },
     "output_type": "display_data"
    }
   ],
   "source": [
    "plt.scatter(Sales_model_2.fittedvalues, Sales_model_2.resid)\n",
    "plt.title ('Fig 2 - Residual Plot')\n",
    "plt.xlabel ( \"Standardized predicted values\")\n",
    "plt.ylabel( \"Standardized residual values\")"
   ]
  },
  {
   "cell_type": "markdown",
   "metadata": {},
   "source": [
    "### Detecting Influencers"
   ]
  },
  {
   "cell_type": "code",
   "execution_count": 45,
   "metadata": {},
   "outputs": [
    {
     "name": "stdout",
     "output_type": "stream",
     "text": [
      "Number of variables: 2  and number of observations: 137\n",
      "Cutoff for leverage value:  0.066\n"
     ]
    }
   ],
   "source": [
    "k = train_X.shape[1]\n",
    "n = train_X.shape[0]\n",
    "print( \"Number of variables:\", k, \" and number of observations:\", n)\n",
    "leverage_cutoff = 3*((k + 1)/n)\n",
    "print( \"Cutoff for leverage value: \", round(leverage_cutoff, 3) )"
   ]
  },
  {
   "cell_type": "code",
   "execution_count": 46,
   "metadata": {},
   "outputs": [],
   "source": [
    "from statsmodels.graphics.regressionplots import influence_plot"
   ]
  },
  {
   "cell_type": "code",
   "execution_count": 47,
   "metadata": {},
   "outputs": [
    {
     "data": {
      "image/png": "[encoded data removed]",
      "text/plain": [
       "<Figure size 864x720 with 1 Axes>"
      ]
     },
     "metadata": {
      "needs_background": "light"
     },
     "output_type": "display_data"
    }
   ],
   "source": [
    "fig, ax = plt.subplots( figsize=(12,10) )\n",
    "influence_plot( Sales_model_2, ax = ax )\n",
    "plt.title( \"Fig 3 - Leverage Value Vs Residuals\")\n",
    "plt.show()"
   ]
  },
  {
   "cell_type": "markdown",
   "metadata": {},
   "source": [
    "### # Cooks Distance"
   ]
  },
  {
   "cell_type": "code",
   "execution_count": 48,
   "metadata": {},
   "outputs": [
    {
     "data": {
      "text/plain": [
       "Text(0, 0.5, 'Cooks Distance')"
      ]
     },
     "execution_count": 48,
     "metadata": {},
     "output_type": "execute_result"
    },
    {
     "data": {
      "image/png": "[encoded data removed]",
      "text/plain": [
       "<Figure size 432x288 with 1 Axes>"
      ]
     },
     "metadata": {
      "needs_background": "light"
     },
     "output_type": "display_data"
    }
   ],
   "source": [
    "import numpy as np\n",
    "Sales_influence = Sales_model_2.get_influence()\n",
    "(c, p) = Sales_influence.cooks_distance\n",
    "plt.stem( np.arange( len( train_X) ),\n",
    "np.round( c, 3 ),\n",
    "markerfmt=\",\" );\n",
    "plt.title( \"Fig 4 - Cooks distance for all observations in Advertising dataset\" );\n",
    "plt.xlabel( \"Row index\")\n",
    "plt.ylabel( \"Cooks Distance\")"
   ]
  },
  {
   "cell_type": "code",
   "execution_count": 49,
   "metadata": {},
   "outputs": [
    {
     "data": {
      "text/html": [
       "<div>\n",
       "<style scoped>\n",
       "    .dataframe tbody tr th:only-of-type {\n",
       "        vertical-align: middle;\n",
       "    }\n",
       "\n",
       "    .dataframe tbody tr th {\n",
       "        vertical-align: top;\n",
       "    }\n",
       "\n",
       "    .dataframe thead th {\n",
       "        text-align: right;\n",
       "    }\n",
       "</style>\n",
       "<table border=\"1\" class=\"dataframe\">\n",
       "  <thead>\n",
       "    <tr style=\"text-align: right;\">\n",
       "      <th></th>\n",
       "      <th>Sno</th>\n",
       "      <th>TV</th>\n",
       "      <th>Radio</th>\n",
       "      <th>Newspaper</th>\n",
       "      <th>Day</th>\n",
       "      <th>Sales</th>\n",
       "    </tr>\n",
       "  </thead>\n",
       "  <tbody>\n",
       "    <tr>\n",
       "      <td>101</td>\n",
       "      <td>102</td>\n",
       "      <td>296.4</td>\n",
       "      <td>36.3</td>\n",
       "      <td>100.9</td>\n",
       "      <td>Weekend</td>\n",
       "      <td>22.1</td>\n",
       "    </tr>\n",
       "    <tr>\n",
       "      <td>128</td>\n",
       "      <td>129</td>\n",
       "      <td>220.3</td>\n",
       "      <td>49.0</td>\n",
       "      <td>3.2</td>\n",
       "      <td>Weekdays</td>\n",
       "      <td>14.8</td>\n",
       "    </tr>\n",
       "  </tbody>\n",
       "</table>\n",
       "</div>"
      ],
      "text/plain": [
       "     Sno     TV  Radio  Newspaper       Day  Sales\n",
       "101  102  296.4   36.3      100.9   Weekend   22.1\n",
       "128  129  220.3   49.0        3.2  Weekdays   14.8"
      ]
     },
     "execution_count": 49,
     "metadata": {},
     "output_type": "execute_result"
    }
   ],
   "source": [
    "Adv[Adv.index.isin( [101, 128] )]"
   ]
  },
  {
   "cell_type": "code",
   "execution_count": 50,
   "metadata": {},
   "outputs": [],
   "source": [
    "train_X_new1 = train_X.drop( [101], axis = 0)\n",
    "train_y_new1 = train_y.drop( [101], axis = 0)"
   ]
  },
  {
   "cell_type": "code",
   "execution_count": 51,
   "metadata": {},
   "outputs": [],
   "source": [
    "import numpy as np\n",
    "train_y = np.sqrt( train_y )"
   ]
  },
  {
   "cell_type": "code",
   "execution_count": 52,
   "metadata": {},
   "outputs": [
    {
     "data": {
      "text/html": [
       "<table class=\"simpletable\">\n",
       "<tr>\n",
       "          <td>Model:</td>                 <td>OLS</td>       <td>Adj. R-squared (uncentered):</td>   <td>0.715</td> \n",
       "</tr>\n",
       "<tr>\n",
       "    <td>Dependent Variable:</td>         <td>Sales</td>                  <td>AIC:</td>             <td>578.7895</td>\n",
       "</tr>\n",
       "<tr>\n",
       "           <td>Date:</td>          <td>2020-08-12 20:10</td>             <td>BIC:</td>             <td>584.6294</td>\n",
       "</tr>\n",
       "<tr>\n",
       "     <td>No. Observations:</td>           <td>137</td>              <td>Log-Likelihood:</td>        <td>-287.39</td>\n",
       "</tr>\n",
       "<tr>\n",
       "         <td>Df Model:</td>                <td>2</td>                <td>F-statistic:</td>           <td>172.5</td> \n",
       "</tr>\n",
       "<tr>\n",
       "       <td>Df Residuals:</td>             <td>135</td>            <td>Prob (F-statistic):</td>     <td>6.50e-38</td>\n",
       "</tr>\n",
       "<tr>\n",
       "  <td>R-squared (uncentered):</td>       <td>0.719</td>                 <td>Scale:</td>             <td>3.9447</td> \n",
       "</tr>\n",
       "</table>\n",
       "<table class=\"simpletable\">\n",
       "<tr>\n",
       "      <td></td>       <th>Coef.</th> <th>Std.Err.</th>    <th>t</th>    <th>P>|t|</th> <th>[0.025</th> <th>0.975]</th>\n",
       "</tr>\n",
       "<tr>\n",
       "  <th>Radio</th>     <td>0.0723</td>  <td>0.0103</td>  <td>7.0460</td> <td>0.0000</td> <td>0.0520</td> <td>0.0926</td>\n",
       "</tr>\n",
       "<tr>\n",
       "  <th>Newspaper</th> <td>0.0369</td>  <td>0.0078</td>  <td>4.7185</td> <td>0.0000</td> <td>0.0214</td> <td>0.0524</td>\n",
       "</tr>\n",
       "</table>\n",
       "<table class=\"simpletable\">\n",
       "<tr>\n",
       "     <td>Omnibus:</td>     <td>4.420</td>  <td>Durbin-Watson:</td>   <td>1.543</td>\n",
       "</tr>\n",
       "<tr>\n",
       "  <td>Prob(Omnibus):</td>  <td>0.110</td> <td>Jarque-Bera (JB):</td> <td>4.056</td>\n",
       "</tr>\n",
       "<tr>\n",
       "       <td>Skew:</td>     <td>-0.351</td>     <td>Prob(JB):</td>     <td>0.132</td>\n",
       "</tr>\n",
       "<tr>\n",
       "     <td>Kurtosis:</td>    <td>2.533</td>  <td>Condition No.:</td>     <td>3</td>  \n",
       "</tr>\n",
       "</table>"
      ],
      "text/plain": [
       "<class 'statsmodels.iolib.summary2.Summary'>\n",
       "\"\"\"\n",
       "                       Results: Ordinary least squares\n",
       "==============================================================================\n",
       "Model:                  OLS              Adj. R-squared (uncentered): 0.715   \n",
       "Dependent Variable:     Sales            AIC:                         578.7895\n",
       "Date:                   2020-08-12 20:10 BIC:                         584.6294\n",
       "No. Observations:       137              Log-Likelihood:              -287.39 \n",
       "Df Model:               2                F-statistic:                 172.5   \n",
       "Df Residuals:           135              Prob (F-statistic):          6.50e-38\n",
       "R-squared (uncentered): 0.719            Scale:                       3.9447  \n",
       "-----------------------------------------------------------------------------------\n",
       "               Coef.       Std.Err.        t         P>|t|       [0.025      0.975]\n",
       "-----------------------------------------------------------------------------------\n",
       "Radio          0.0723        0.0103      7.0460      0.0000      0.0520      0.0926\n",
       "Newspaper      0.0369        0.0078      4.7185      0.0000      0.0214      0.0524\n",
       "------------------------------------------------------------------------------\n",
       "Omnibus:                  4.420             Durbin-Watson:               1.543\n",
       "Prob(Omnibus):            0.110             Jarque-Bera (JB):            4.056\n",
       "Skew:                     -0.351            Prob(JB):                    0.132\n",
       "Kurtosis:                 2.533             Condition No.:               3    \n",
       "==============================================================================\n",
       "\n",
       "\"\"\""
      ]
     },
     "execution_count": 52,
     "metadata": {},
     "output_type": "execute_result"
    }
   ],
   "source": [
    "Sales_model_3= sm.OLS(train_y, train_X).fit()\n",
    "Sales_model_3.summary2()"
   ]
  },
  {
   "cell_type": "code",
   "execution_count": 53,
   "metadata": {},
   "outputs": [
    {
     "data": {
      "text/plain": [
       "<Figure size 576x432 with 0 Axes>"
      ]
     },
     "metadata": {},
     "output_type": "display_data"
    },
    {
     "data": {
      "image/png": "[encoded data removed]",
      "text/plain": [
       "<Figure size 432x288 with 1 Axes>"
      ]
     },
     "metadata": {
      "needs_background": "light"
     },
     "output_type": "display_data"
    }
   ],
   "source": [
    "probplot = sm.ProbPlot(Sales_model_3.resid )\n",
    "plt.figure( figsize = (8, 6) )\n",
    "probplot.ppplot( line='45' )\n",
    "plt.title( \"Fig 5 - Normal P-P Plot of Regression Standardized Residuals for model 3\" )\n",
    "plt.show()"
   ]
  },
  {
   "cell_type": "markdown",
   "metadata": {},
   "source": [
    "### Making Predictions"
   ]
  },
  {
   "cell_type": "code",
   "execution_count": 54,
   "metadata": {},
   "outputs": [],
   "source": [
    "pred_y = np.power( Sales_model_3.predict( test_X[train_X.columns] ), 2)"
   ]
  },
  {
   "cell_type": "code",
   "execution_count": 55,
   "metadata": {},
   "outputs": [
    {
     "data": {
      "text/plain": [
       "48      8.899432\n",
       "162     5.076196\n",
       "33      2.123084\n",
       "37     27.641871\n",
       "41     14.764873\n",
       "104     7.157943\n",
       "110     7.167316\n",
       "89     28.645499\n",
       "5      39.718959\n",
       "27      4.211590\n",
       "dtype: float64"
      ]
     },
     "execution_count": 55,
     "metadata": {},
     "output_type": "execute_result"
    }
   ],
   "source": [
    "pred_y[0:10]"
   ]
  },
  {
   "cell_type": "markdown",
   "metadata": {},
   "source": [
    "### RMSE"
   ]
  },
  {
   "cell_type": "code",
   "execution_count": 56,
   "metadata": {},
   "outputs": [
    {
     "data": {
      "text/plain": [
       "11.435018816122266"
      ]
     },
     "execution_count": 56,
     "metadata": {},
     "output_type": "execute_result"
    }
   ],
   "source": [
    "from sklearn import metrics\n",
    "np.sqrt(metrics.mean_squared_error(pred_y, test_y))"
   ]
  },
  {
   "cell_type": "markdown",
   "metadata": {},
   "source": [
    "### R-squared value"
   ]
  },
  {
   "cell_type": "code",
   "execution_count": 57,
   "metadata": {},
   "outputs": [
    {
     "data": {
      "text/plain": [
       "-0.61"
      ]
     },
     "execution_count": 57,
     "metadata": {},
     "output_type": "execute_result"
    }
   ],
   "source": [
    "np.round( metrics.r2_score(pred_y, test_y), 2 )"
   ]
  },
  {
   "cell_type": "code",
   "execution_count": 58,
   "metadata": {},
   "outputs": [
    {
     "data": {
      "text/html": [
       "<div>\n",
       "<style scoped>\n",
       "    .dataframe tbody tr th:only-of-type {\n",
       "        vertical-align: middle;\n",
       "    }\n",
       "\n",
       "    .dataframe tbody tr th {\n",
       "        vertical-align: top;\n",
       "    }\n",
       "\n",
       "    .dataframe thead th {\n",
       "        text-align: right;\n",
       "    }\n",
       "</style>\n",
       "<table border=\"1\" class=\"dataframe\">\n",
       "  <thead>\n",
       "    <tr style=\"text-align: right;\">\n",
       "      <th></th>\n",
       "      <th>TV</th>\n",
       "      <th>Radio</th>\n",
       "      <th>Newspaper</th>\n",
       "      <th>Day_Weekdays</th>\n",
       "      <th>Day_Weekend</th>\n",
       "    </tr>\n",
       "  </thead>\n",
       "  <tbody>\n",
       "    <tr>\n",
       "      <td>count</td>\n",
       "      <td>197.000000</td>\n",
       "      <td>197.000000</td>\n",
       "      <td>197.000000</td>\n",
       "      <td>197.000000</td>\n",
       "      <td>197.000000</td>\n",
       "    </tr>\n",
       "    <tr>\n",
       "      <td>mean</td>\n",
       "      <td>146.242132</td>\n",
       "      <td>23.152284</td>\n",
       "      <td>30.375635</td>\n",
       "      <td>0.766497</td>\n",
       "      <td>0.213198</td>\n",
       "    </tr>\n",
       "    <tr>\n",
       "      <td>std</td>\n",
       "      <td>85.439138</td>\n",
       "      <td>14.922793</td>\n",
       "      <td>20.972370</td>\n",
       "      <td>0.424137</td>\n",
       "      <td>0.410610</td>\n",
       "    </tr>\n",
       "    <tr>\n",
       "      <td>min</td>\n",
       "      <td>0.700000</td>\n",
       "      <td>0.000000</td>\n",
       "      <td>0.300000</td>\n",
       "      <td>0.000000</td>\n",
       "      <td>0.000000</td>\n",
       "    </tr>\n",
       "    <tr>\n",
       "      <td>25%</td>\n",
       "      <td>74.700000</td>\n",
       "      <td>9.900000</td>\n",
       "      <td>12.900000</td>\n",
       "      <td>1.000000</td>\n",
       "      <td>0.000000</td>\n",
       "    </tr>\n",
       "    <tr>\n",
       "      <td>50%</td>\n",
       "      <td>149.700000</td>\n",
       "      <td>22.300000</td>\n",
       "      <td>25.900000</td>\n",
       "      <td>1.000000</td>\n",
       "      <td>0.000000</td>\n",
       "    </tr>\n",
       "    <tr>\n",
       "      <td>75%</td>\n",
       "      <td>218.400000</td>\n",
       "      <td>36.500000</td>\n",
       "      <td>45.100000</td>\n",
       "      <td>1.000000</td>\n",
       "      <td>0.000000</td>\n",
       "    </tr>\n",
       "    <tr>\n",
       "      <td>max</td>\n",
       "      <td>296.400000</td>\n",
       "      <td>49.600000</td>\n",
       "      <td>100.900000</td>\n",
       "      <td>1.000000</td>\n",
       "      <td>1.000000</td>\n",
       "    </tr>\n",
       "  </tbody>\n",
       "</table>\n",
       "</div>"
      ],
      "text/plain": [
       "               TV       Radio   Newspaper  Day_Weekdays  Day_Weekend\n",
       "count  197.000000  197.000000  197.000000    197.000000   197.000000\n",
       "mean   146.242132   23.152284   30.375635      0.766497     0.213198\n",
       "std     85.439138   14.922793   20.972370      0.424137     0.410610\n",
       "min      0.700000    0.000000    0.300000      0.000000     0.000000\n",
       "25%     74.700000    9.900000   12.900000      1.000000     0.000000\n",
       "50%    149.700000   22.300000   25.900000      1.000000     0.000000\n",
       "75%    218.400000   36.500000   45.100000      1.000000     0.000000\n",
       "max    296.400000   49.600000  100.900000      1.000000     1.000000"
      ]
     },
     "execution_count": 58,
     "metadata": {},
     "output_type": "execute_result"
    }
   ],
   "source": [
    "Adv_encoded.describe()"
   ]
  },
  {
   "cell_type": "code",
   "execution_count": 59,
   "metadata": {},
   "outputs": [
    {
     "data": {
      "text/html": [
       "<div>\n",
       "<style scoped>\n",
       "    .dataframe tbody tr th:only-of-type {\n",
       "        vertical-align: middle;\n",
       "    }\n",
       "\n",
       "    .dataframe tbody tr th {\n",
       "        vertical-align: top;\n",
       "    }\n",
       "\n",
       "    .dataframe thead th {\n",
       "        text-align: right;\n",
       "    }\n",
       "</style>\n",
       "<table border=\"1\" class=\"dataframe\">\n",
       "  <thead>\n",
       "    <tr style=\"text-align: right;\">\n",
       "      <th></th>\n",
       "      <th>Radio</th>\n",
       "      <th>Newspaper</th>\n",
       "    </tr>\n",
       "  </thead>\n",
       "  <tbody>\n",
       "    <tr>\n",
       "      <td>count</td>\n",
       "      <td>137.000000</td>\n",
       "      <td>137.000000</td>\n",
       "    </tr>\n",
       "    <tr>\n",
       "      <td>mean</td>\n",
       "      <td>22.797080</td>\n",
       "      <td>29.130657</td>\n",
       "    </tr>\n",
       "    <tr>\n",
       "      <td>std</td>\n",
       "      <td>15.386864</td>\n",
       "      <td>21.325315</td>\n",
       "    </tr>\n",
       "    <tr>\n",
       "      <td>min</td>\n",
       "      <td>0.000000</td>\n",
       "      <td>1.000000</td>\n",
       "    </tr>\n",
       "    <tr>\n",
       "      <td>25%</td>\n",
       "      <td>8.400000</td>\n",
       "      <td>11.600000</td>\n",
       "    </tr>\n",
       "    <tr>\n",
       "      <td>50%</td>\n",
       "      <td>21.100000</td>\n",
       "      <td>23.700000</td>\n",
       "    </tr>\n",
       "    <tr>\n",
       "      <td>75%</td>\n",
       "      <td>36.900000</td>\n",
       "      <td>41.400000</td>\n",
       "    </tr>\n",
       "    <tr>\n",
       "      <td>max</td>\n",
       "      <td>49.600000</td>\n",
       "      <td>100.900000</td>\n",
       "    </tr>\n",
       "  </tbody>\n",
       "</table>\n",
       "</div>"
      ],
      "text/plain": [
       "            Radio   Newspaper\n",
       "count  137.000000  137.000000\n",
       "mean    22.797080   29.130657\n",
       "std     15.386864   21.325315\n",
       "min      0.000000    1.000000\n",
       "25%      8.400000   11.600000\n",
       "50%     21.100000   23.700000\n",
       "75%     36.900000   41.400000\n",
       "max     49.600000  100.900000"
      ]
     },
     "execution_count": 59,
     "metadata": {},
     "output_type": "execute_result"
    }
   ],
   "source": [
    "train_X.describe()"
   ]
  },
  {
   "cell_type": "code",
   "execution_count": 60,
   "metadata": {},
   "outputs": [],
   "source": [
    "# MODEL 1:\n",
    "#  TV+ Radio+ Newspaper+ Day_Weekdays+ Day_Weekend = Daily sales\n",
    "# (146.242132*0.0037)+(23.152284*0.0264)+(30.375635*-0.0241)+(0.766497*1.0103)+(0.213198*-0.1513) = 1.16239844"
   ]
  },
  {
   "cell_type": "code",
   "execution_count": 61,
   "metadata": {},
   "outputs": [],
   "source": [
    "# MODEL 3:\n",
    "# Radio+ Newspaper = Daily sales\n",
    "# (22.797080*0.0723)+(29.130657*0.0723) = 3.75437539"
   ]
  },
  {
   "cell_type": "code",
   "execution_count": null,
   "metadata": {},
   "outputs": [],
   "source": []
  }
 ],
 "metadata": {
  "kernelspec": {
   "display_name": "Python 3",
   "language": "python",
   "name": "python3"
  },
  "language_info": {
   "codemirror_mode": {
    "name": "ipython",
    "version": 3
   },
   "file_extension": ".py",
   "mimetype": "text/x-python",
   "name": "python",
   "nbconvert_exporter": "python",
   "pygments_lexer": "ipython3",
   "version": "3.7.4"
  }
 },
 "nbformat": 4,
 "nbformat_minor": 2
}
